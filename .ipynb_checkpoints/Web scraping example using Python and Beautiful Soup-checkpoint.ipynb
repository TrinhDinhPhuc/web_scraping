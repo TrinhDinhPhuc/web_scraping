{
 "cells": [
  {
   "cell_type": "code",
   "execution_count": 1,
   "metadata": {
    "collapsed": true
   },
   "outputs": [],
   "source": [
    "#Packages\n",
    "#--Web scraping packages\n",
    "from bs4 import BeautifulSoup\n",
    "import requests\n",
    "#Pandas/numpy for data manipulation\n",
    "import pandas as pd\n",
    "import numpy as np"
   ]
  },
  {
   "cell_type": "markdown",
   "metadata": {},
   "source": [
    "####  Load URLs we want to scrape into an array"
   ]
  },
  {
   "cell_type": "code",
   "execution_count": 2,
   "metadata": {
    "collapsed": true
   },
   "outputs": [],
   "source": [
    "#load URLs we want to scrape into an array\n",
    "BASE_URL = [\n",
    "'http://www.reuters.com/finance/stocks/company-officers/GOOG.O',\n",
    "'http://www.reuters.com/finance/stocks/company-officers/AMZN',\n",
    "'http://www.reuters.com/finance/stocks/company-officers/AAPL'\n",
    "]"
   ]
  },
  {
   "cell_type": "markdown",
   "metadata": {},
   "source": [
    "### Loop through our URLs, scrape table, pass information to array\n"
   ]
  },
  {
   "cell_type": "code",
   "execution_count": 8,
   "metadata": {
    "collapsed": false
   },
   "outputs": [],
   "source": [
    "#loading empty array for board members\n",
    "board_members = []\n",
    "#Loop through our URLs we loaded above\n",
    "for b in BASE_URL:\n",
    "    html = requests.get(b).text\n",
    "soup = BeautifulSoup(html, \"html.parser\")\n",
    "#identify table we want to scrape\n",
    "officer_table = soup.find('table', {\"class\" : \"dataTable\"})\n",
    "#try clause to skip any companies with missing/empty board member tables\n",
    "try:\n",
    "#loop through table, grab each of the 4 columns shown (try one of the links yourself to see the layout)\n",
    "    for row in officer_table.find_all('tr'):\n",
    "        cols = row.find_all('td')\n",
    "        if len(cols) == 4:\n",
    "            board_members.append((b, cols[0].text.strip(), cols[1].text.strip(), cols[2].text.strip(), cols[3].text.strip()))\n",
    "except: pass  "
   ]
  },
  {
   "cell_type": "markdown",
   "metadata": {},
   "source": [
    "### Create new array, check length to ensure things pulled in correctly\n"
   ]
  },
  {
   "cell_type": "code",
   "execution_count": 9,
   "metadata": {
    "collapsed": false
   },
   "outputs": [
    {
     "data": {
      "text/plain": [
       "17"
      ]
     },
     "execution_count": 9,
     "metadata": {},
     "output_type": "execute_result"
    }
   ],
   "source": [
    "#convert output to new array, check length\n",
    "board_array = np.asarray(board_members)\n",
    "len(board_array)"
   ]
  },
  {
   "cell_type": "code",
   "execution_count": 11,
   "metadata": {
    "collapsed": false
   },
   "outputs": [
    {
     "data": {
      "text/plain": [
       "array(['http://www.reuters.com/finance/stocks/company-officers/AAPL',\n",
       "       'Art\\xa0Levinson', '67', '2011', 'Independent Chairman of the Board'],\n",
       "      dtype='<U59')"
      ]
     },
     "execution_count": 11,
     "metadata": {},
     "output_type": "execute_result"
    }
   ],
   "source": [
    "board_array[0]"
   ]
  },
  {
   "cell_type": "markdown",
   "metadata": {},
   "source": [
    "### Convert new array to dataframe"
   ]
  },
  {
   "cell_type": "code",
   "execution_count": 12,
   "metadata": {
    "collapsed": true
   },
   "outputs": [],
   "source": [
    "#convert new array to dataframe\n",
    "df = pd.DataFrame(board_array)"
   ]
  },
  {
   "cell_type": "code",
   "execution_count": 13,
   "metadata": {
    "collapsed": false
   },
   "outputs": [
    {
     "data": {
      "text/html": [
       "<div>\n",
       "<table border=\"1\" class=\"dataframe\">\n",
       "  <thead>\n",
       "    <tr style=\"text-align: right;\">\n",
       "      <th></th>\n",
       "      <th>0</th>\n",
       "      <th>1</th>\n",
       "      <th>2</th>\n",
       "      <th>3</th>\n",
       "      <th>4</th>\n",
       "    </tr>\n",
       "  </thead>\n",
       "  <tbody>\n",
       "    <tr>\n",
       "      <th>0</th>\n",
       "      <td>http://www.reuters.com/finance/stocks/company-...</td>\n",
       "      <td>Art Levinson</td>\n",
       "      <td>67</td>\n",
       "      <td>2011</td>\n",
       "      <td>Independent Chairman of the Board</td>\n",
       "    </tr>\n",
       "    <tr>\n",
       "      <th>1</th>\n",
       "      <td>http://www.reuters.com/finance/stocks/company-...</td>\n",
       "      <td>Timothy Cook</td>\n",
       "      <td>57</td>\n",
       "      <td>2011</td>\n",
       "      <td>Chief Executive Officer, Director</td>\n",
       "    </tr>\n",
       "    <tr>\n",
       "      <th>2</th>\n",
       "      <td>http://www.reuters.com/finance/stocks/company-...</td>\n",
       "      <td>Luca Maestri</td>\n",
       "      <td>54</td>\n",
       "      <td>2014</td>\n",
       "      <td>Chief Financial Officer, Senior Vice President</td>\n",
       "    </tr>\n",
       "    <tr>\n",
       "      <th>3</th>\n",
       "      <td>http://www.reuters.com/finance/stocks/company-...</td>\n",
       "      <td>Jeff Williams</td>\n",
       "      <td>54</td>\n",
       "      <td>2015</td>\n",
       "      <td>Chief Operating Officer, Senior Vice President</td>\n",
       "    </tr>\n",
       "    <tr>\n",
       "      <th>4</th>\n",
       "      <td>http://www.reuters.com/finance/stocks/company-...</td>\n",
       "      <td>Katherine Adams</td>\n",
       "      <td>53</td>\n",
       "      <td>2017</td>\n",
       "      <td>Senior Vice President, General Counsel</td>\n",
       "    </tr>\n",
       "  </tbody>\n",
       "</table>\n",
       "</div>"
      ],
      "text/plain": [
       "                                                   0                1   2  \\\n",
       "0  http://www.reuters.com/finance/stocks/company-...     Art Levinson  67   \n",
       "1  http://www.reuters.com/finance/stocks/company-...     Timothy Cook  57   \n",
       "2  http://www.reuters.com/finance/stocks/company-...     Luca Maestri  54   \n",
       "3  http://www.reuters.com/finance/stocks/company-...    Jeff Williams  54   \n",
       "4  http://www.reuters.com/finance/stocks/company-...  Katherine Adams  53   \n",
       "\n",
       "      3                                               4  \n",
       "0  2011               Independent Chairman of the Board  \n",
       "1  2011               Chief Executive Officer, Director  \n",
       "2  2014  Chief Financial Officer, Senior Vice President  \n",
       "3  2015  Chief Operating Officer, Senior Vice President  \n",
       "4  2017          Senior Vice President, General Counsel  "
      ]
     },
     "execution_count": 13,
     "metadata": {},
     "output_type": "execute_result"
    }
   ],
   "source": [
    "df.head()"
   ]
  },
  {
   "cell_type": "markdown",
   "metadata": {},
   "source": [
    "### Rename columns, preview output\n"
   ]
  },
  {
   "cell_type": "code",
   "execution_count": 14,
   "metadata": {
    "collapsed": false
   },
   "outputs": [
    {
     "data": {
      "text/html": [
       "<div>\n",
       "<table border=\"1\" class=\"dataframe\">\n",
       "  <thead>\n",
       "    <tr style=\"text-align: right;\">\n",
       "      <th></th>\n",
       "      <th>URL</th>\n",
       "      <th>Name</th>\n",
       "      <th>Age</th>\n",
       "      <th>Year_Joined</th>\n",
       "      <th>Title</th>\n",
       "    </tr>\n",
       "  </thead>\n",
       "  <tbody>\n",
       "    <tr>\n",
       "      <th>0</th>\n",
       "      <td>http://www.reuters.com/finance/stocks/company-...</td>\n",
       "      <td>Art Levinson</td>\n",
       "      <td>67</td>\n",
       "      <td>2011</td>\n",
       "      <td>Independent Chairman of the Board</td>\n",
       "    </tr>\n",
       "    <tr>\n",
       "      <th>1</th>\n",
       "      <td>http://www.reuters.com/finance/stocks/company-...</td>\n",
       "      <td>Timothy Cook</td>\n",
       "      <td>57</td>\n",
       "      <td>2011</td>\n",
       "      <td>Chief Executive Officer, Director</td>\n",
       "    </tr>\n",
       "    <tr>\n",
       "      <th>2</th>\n",
       "      <td>http://www.reuters.com/finance/stocks/company-...</td>\n",
       "      <td>Luca Maestri</td>\n",
       "      <td>54</td>\n",
       "      <td>2014</td>\n",
       "      <td>Chief Financial Officer, Senior Vice President</td>\n",
       "    </tr>\n",
       "    <tr>\n",
       "      <th>3</th>\n",
       "      <td>http://www.reuters.com/finance/stocks/company-...</td>\n",
       "      <td>Jeff Williams</td>\n",
       "      <td>54</td>\n",
       "      <td>2015</td>\n",
       "      <td>Chief Operating Officer, Senior Vice President</td>\n",
       "    </tr>\n",
       "    <tr>\n",
       "      <th>4</th>\n",
       "      <td>http://www.reuters.com/finance/stocks/company-...</td>\n",
       "      <td>Katherine Adams</td>\n",
       "      <td>53</td>\n",
       "      <td>2017</td>\n",
       "      <td>Senior Vice President, General Counsel</td>\n",
       "    </tr>\n",
       "    <tr>\n",
       "      <th>5</th>\n",
       "      <td>http://www.reuters.com/finance/stocks/company-...</td>\n",
       "      <td>Phil Schiller</td>\n",
       "      <td>57</td>\n",
       "      <td>2002</td>\n",
       "      <td>Senior Vice President - Worldwide Marketing</td>\n",
       "    </tr>\n",
       "    <tr>\n",
       "      <th>6</th>\n",
       "      <td>http://www.reuters.com/finance/stocks/company-...</td>\n",
       "      <td>Angela Ahrendts</td>\n",
       "      <td>57</td>\n",
       "      <td>2014</td>\n",
       "      <td>Senior Vice President - Retail</td>\n",
       "    </tr>\n",
       "    <tr>\n",
       "      <th>7</th>\n",
       "      <td>http://www.reuters.com/finance/stocks/company-...</td>\n",
       "      <td>Eddy Cue</td>\n",
       "      <td>54</td>\n",
       "      <td>2011</td>\n",
       "      <td>Senior Vice President - Internet Software and ...</td>\n",
       "    </tr>\n",
       "    <tr>\n",
       "      <th>8</th>\n",
       "      <td>http://www.reuters.com/finance/stocks/company-...</td>\n",
       "      <td>Craig Federighi</td>\n",
       "      <td>48</td>\n",
       "      <td>2012</td>\n",
       "      <td>Senior Vice President - Software Engineering</td>\n",
       "    </tr>\n",
       "    <tr>\n",
       "      <th>9</th>\n",
       "      <td>http://www.reuters.com/finance/stocks/company-...</td>\n",
       "      <td>Daniel Riccio</td>\n",
       "      <td>55</td>\n",
       "      <td>2012</td>\n",
       "      <td>Senior Vice President - Hardware Engineering</td>\n",
       "    </tr>\n",
       "  </tbody>\n",
       "</table>\n",
       "</div>"
      ],
      "text/plain": [
       "                                                 URL             Name Age  \\\n",
       "0  http://www.reuters.com/finance/stocks/company-...     Art Levinson  67   \n",
       "1  http://www.reuters.com/finance/stocks/company-...     Timothy Cook  57   \n",
       "2  http://www.reuters.com/finance/stocks/company-...     Luca Maestri  54   \n",
       "3  http://www.reuters.com/finance/stocks/company-...    Jeff Williams  54   \n",
       "4  http://www.reuters.com/finance/stocks/company-...  Katherine Adams  53   \n",
       "5  http://www.reuters.com/finance/stocks/company-...    Phil Schiller  57   \n",
       "6  http://www.reuters.com/finance/stocks/company-...  Angela Ahrendts  57   \n",
       "7  http://www.reuters.com/finance/stocks/company-...         Eddy Cue  54   \n",
       "8  http://www.reuters.com/finance/stocks/company-...  Craig Federighi  48   \n",
       "9  http://www.reuters.com/finance/stocks/company-...    Daniel Riccio  55   \n",
       "\n",
       "  Year_Joined                                              Title  \n",
       "0        2011                  Independent Chairman of the Board  \n",
       "1        2011                  Chief Executive Officer, Director  \n",
       "2        2014     Chief Financial Officer, Senior Vice President  \n",
       "3        2015     Chief Operating Officer, Senior Vice President  \n",
       "4        2017             Senior Vice President, General Counsel  \n",
       "5        2002        Senior Vice President - Worldwide Marketing  \n",
       "6        2014                     Senior Vice President - Retail  \n",
       "7        2011  Senior Vice President - Internet Software and ...  \n",
       "8        2012       Senior Vice President - Software Engineering  \n",
       "9        2012       Senior Vice President - Hardware Engineering  "
      ]
     },
     "execution_count": 14,
     "metadata": {},
     "output_type": "execute_result"
    }
   ],
   "source": [
    "#rename columns, check output\n",
    "df.columns = ['URL', 'Name', 'Age','Year_Joined', 'Title']\n",
    "df.head(10)"
   ]
  },
  {
   "cell_type": "markdown",
   "metadata": {},
   "source": [
    "### Export data to CSV\n"
   ]
  },
  {
   "cell_type": "code",
   "execution_count": 15,
   "metadata": {
    "collapsed": true
   },
   "outputs": [],
   "source": [
    "#export data\n",
    "df.to_csv('board_members.csv')"
   ]
  }
 ],
 "metadata": {
  "kernelspec": {
   "display_name": "Python 3",
   "language": "python",
   "name": "python3"
  },
  "language_info": {
   "codemirror_mode": {
    "name": "ipython",
    "version": 3
   },
   "file_extension": ".py",
   "mimetype": "text/x-python",
   "name": "python",
   "nbconvert_exporter": "python",
   "pygments_lexer": "ipython3",
   "version": "3.6.0"
  }
 },
 "nbformat": 4,
 "nbformat_minor": 2
}
